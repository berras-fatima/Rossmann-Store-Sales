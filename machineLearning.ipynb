{
  "cells": [
    {
      "cell_type": "code",
      "execution_count": null,
      "metadata": {
        "id": "5vkR4i6YPcix"
      },
      "outputs": [],
      "source": [
        "#@title libraries\n",
        "import os\n",
        "import numpy as np\n",
        "import pandas as pd\n",
        "from sklearn.feature_selection import SelectKBest, mutual_info_regression\n",
        "from sklearn.feature_selection import f_classif\n",
        "import matplotlib.pyplot as plt\n",
        "from sklearn.ensemble import RandomForestRegressor\n",
        "from sklearn.model_selection import train_test_split"
      ]
    },
    {
      "cell_type": "code",
      "execution_count": null,
      "metadata": {
        "id": "xL1ideJLQFRm"
      },
      "outputs": [],
      "source": [
        "#@title categories encoder\n",
        "def factor_to_integer(df, colname, start_value=0):\n",
        "    while df[colname].dtype == object:\n",
        "        myval = start_value # factor starts at \"start_value\".\n",
        "        for sval in df[colname].unique():\n",
        "            df.loc[df[colname] == sval, colname] = myval\n",
        "            myval += 1\n",
        "        df[colname] = df[colname].astype(int, copy=False)"
      ]
    },
    {
      "cell_type": "code",
      "execution_count": null,
      "metadata": {
        "id": "g0ACOf2LQb6G"
      },
      "outputs": [],
      "source": [
        "#@title collection des données\n",
        "\n",
        "data = pd.read_csv(\"/content/drive/MyDrive/AppMachine/train.csv\", parse_dates=['Date'], dtype={'StateHoliday': str, 'SchoolHoliday':str}, low_memory=False)\n",
        "data2 = pd.read_csv(\"/content/drive/MyDrive/AppMachine/store.csv\", dtype={'StoreType': str, 'Assortment': str}, low_memory=False)\n",
        "data3 = pd.read_csv(\"/content/drive/MyDrive/AppMachine/test.csv\", parse_dates=['Date'], dtype={'StateHoliday': str, 'SchoolHoliday':str}, low_memory=False)\n",
        "\n",
        "#DC contient les deux BDD train et Store\n",
        "DC = pd.merge(data, data2, how=\"left\", on=[\"Store\"])\n",
        "DC2 = pd.merge(data, data2, how=\"left\", on=[\"Store\"])\n",
        "\n",
        "test = pd.merge(data3, data2, how=\"left\", on=[\"Store\"])"
      ]
    },
    {
      "cell_type": "code",
      "source": [
        "DC.columns"
      ],
      "metadata": {
        "colab": {
          "base_uri": "https://localhost:8080/"
        },
        "id": "_dKWWe3kwNS9",
        "outputId": "fca972cc-96a8-4f70-b9fa-54836357424e"
      },
      "execution_count": null,
      "outputs": [
        {
          "output_type": "execute_result",
          "data": {
            "text/plain": [
              "Index(['Store', 'DayOfWeek', 'Date', 'Sales', 'Customers', 'Open', 'Promo',\n",
              "       'StateHoliday', 'SchoolHoliday', 'StoreType', 'Assortment',\n",
              "       'CompetitionDistance', 'CompetitionOpenSinceMonth',\n",
              "       'CompetitionOpenSinceYear', 'Promo2', 'Promo2SinceWeek',\n",
              "       'Promo2SinceYear', 'PromoInterval', 'Year', 'Month'],\n",
              "      dtype='object')"
            ]
          },
          "metadata": {},
          "execution_count": 8
        }
      ]
    },
    {
      "cell_type": "code",
      "source": [
        "test.columns"
      ],
      "metadata": {
        "id": "g0lo_rQ8wU0O",
        "outputId": "c2f0f47f-65f4-42fb-c7e7-1c9f1fc4a396",
        "colab": {
          "base_uri": "https://localhost:8080/"
        }
      },
      "execution_count": null,
      "outputs": [
        {
          "output_type": "execute_result",
          "data": {
            "text/plain": [
              "Index(['Id', 'Store', 'DayOfWeek', 'Date', 'Open', 'Promo', 'StateHoliday',\n",
              "       'SchoolHoliday', 'StoreType', 'Assortment', 'CompetitionDistance',\n",
              "       'CompetitionOpenSinceMonth', 'CompetitionOpenSinceYear', 'Promo2',\n",
              "       'Promo2SinceWeek', 'Promo2SinceYear', 'PromoInterval'],\n",
              "      dtype='object')"
            ]
          },
          "metadata": {},
          "execution_count": 9
        }
      ]
    },
    {
      "cell_type": "code",
      "execution_count": null,
      "metadata": {
        "colab": {
          "base_uri": "https://localhost:8080/"
        },
        "id": "Rt5Z8JzzxEFs",
        "outputId": "d74946e8-1240-4928-efa5-a0c8eea27f87"
      },
      "outputs": [
        {
          "output_type": "execute_result",
          "data": {
            "text/plain": [
              "Store                             0\n",
              "DayOfWeek                         0\n",
              "Date                              0\n",
              "Sales                             0\n",
              "Customers                         0\n",
              "Open                              0\n",
              "Promo                             0\n",
              "StateHoliday                      0\n",
              "SchoolHoliday                     0\n",
              "StoreType                         0\n",
              "Assortment                        0\n",
              "CompetitionDistance            2642\n",
              "CompetitionOpenSinceMonth    323348\n",
              "CompetitionOpenSinceYear     323348\n",
              "Promo2                            0\n",
              "Promo2SinceWeek              508031\n",
              "Promo2SinceYear              508031\n",
              "PromoInterval                508031\n",
              "Year                              0\n",
              "Month                             0\n",
              "dtype: int64"
            ]
          },
          "metadata": {},
          "execution_count": 4
        }
      ],
      "source": [
        "#changer la date par mois et année\n",
        "DC['Year'] = pd.DatetimeIndex(DC['Date']).year\n",
        "DC['Month'] = pd.DatetimeIndex(DC['Date']).month\n",
        "\n",
        "\n",
        "DC.isna().sum()"
      ]
    },
    {
      "cell_type": "code",
      "execution_count": null,
      "metadata": {
        "colab": {
          "base_uri": "https://localhost:8080/"
        },
        "id": "VzENIrU7SBuM",
        "outputId": "84d1b400-66a5-4363-ba6f-114c82e6a32f"
      },
      "outputs": [
        {
          "output_type": "stream",
          "name": "stdout",
          "text": [
            "Index(['Store', 'DayOfWeek', 'Open', 'Promo', 'StateHoliday', 'StoreType',\n",
            "       'Assortment', 'CompetitionDistance', 'Year', 'Month'],\n",
            "      dtype='object')\n"
          ]
        }
      ],
      "source": [
        "#@title traitement des données \n",
        "\n",
        "#DC['Open'].fillna(value=DC['Open'].median(), inplace=True)\n",
        "DC['CompetitionDistance'].fillna(value=-1, inplace=True)\n",
        "#DC['DayOfWeek'].fillna(value=DC['DayOfWeek'].median(), inplace=True)\n",
        "#DC['Promo'].fillna(value=DC['Promo'].median(), inplace=True)\n",
        "#DC['Customers'].fillna(value=DC['Customers'].mean(), inplace=True)\n",
        "\n",
        "factor_to_integer(DC, 'StateHoliday')\n",
        "factor_to_integer(DC, 'Assortment')\n",
        "factor_to_integer(DC, 'StoreType')\n",
        "\n",
        "X = DC.drop(['Sales','Customers','Date','SchoolHoliday','CompetitionOpenSinceYear','CompetitionOpenSinceMonth','Promo2','Promo2SinceWeek','Promo2SinceYear','PromoInterval'], axis=1)\n",
        "y = DC['Customers']\n",
        "\n",
        "print(X.columns)\n"
      ]
    },
    {
      "cell_type": "code",
      "execution_count": null,
      "metadata": {
        "id": "21ZqfA1RSo_w"
      },
      "outputs": [],
      "source": [
        "#@title Random Forest -- predire Customers\n",
        "X_train, X_val, y_train, y_val = train_test_split(X, y, random_state=42)\n",
        "\n",
        "#On créé un Random Forest de 100 arbres \n",
        "rf = RandomForestRegressor(n_estimators = 100, random_state = 42)\n",
        "rf.fit(X_train, y_train)\n",
        "\n",
        "#d'entraîner sur l'échantillon de validation\n",
        "predictions = rf.predict(X_val).round()\n",
        "\n",
        "#calculer l'erreur entre la valeur predite et Customers\n",
        "erreurs = abs(predictions - y_val)\n",
        "print('Mean Absolute Error:', round(np.mean(erreurs), 2), 'degrees.')"
      ]
    },
    {
      "cell_type": "code",
      "execution_count": null,
      "metadata": {
        "colab": {
          "base_uri": "https://localhost:8080/"
        },
        "id": "a5hbJeIc0Mgq",
        "outputId": "e42af62f-a57d-4e32-cd47-05e42ae47bb4"
      },
      "outputs": [
        {
          "output_type": "stream",
          "name": "stdout",
          "text": [
            "Index(['Store', 'DayOfWeek', 'Date', 'Sales', 'Customers', 'Open', 'Promo',\n",
            "       'StateHoliday', 'SchoolHoliday', 'StoreType', 'Assortment',\n",
            "       'CompetitionDistance', 'CompetitionOpenSinceMonth',\n",
            "       'CompetitionOpenSinceYear', 'Promo2', 'Promo2SinceWeek',\n",
            "       'Promo2SinceYear', 'PromoInterval'],\n",
            "      dtype='object')\n"
          ]
        }
      ],
      "source": [
        "print(DC2.columns)"
      ]
    },
    {
      "cell_type": "code",
      "execution_count": null,
      "metadata": {
        "colab": {
          "base_uri": "https://localhost:8080/"
        },
        "id": "CpCzHW3HzADH",
        "outputId": "1fdd6cc5-311d-445b-ac77-468f20909ee8"
      },
      "outputs": [
        {
          "output_type": "stream",
          "name": "stdout",
          "text": [
            "Index(['Store', 'DayOfWeek', 'Customers', 'Open', 'Promo', 'StateHoliday',\n",
            "       'StoreType', 'Assortment', 'CompetitionDistance', 'Year', 'Month'],\n",
            "      dtype='object')\n"
          ]
        }
      ],
      "source": [
        "#@title predire sales\n",
        "DC2 = DC.copy()\n",
        "DC2['Year'] = pd.DatetimeIndex(DC2['Date']).year\n",
        "DC2['Month'] = pd.DatetimeIndex(DC2['Date']).month\n",
        "X2 = DC2.drop(['Sales','Date','SchoolHoliday','CompetitionOpenSinceYear','CompetitionOpenSinceMonth','Promo2','Promo2SinceWeek','Promo2SinceYear','PromoInterval'], axis=1)\n",
        "y2 = DC2['Sales']\n",
        "print (X2.columns)\n"
      ]
    },
    {
      "cell_type": "code",
      "execution_count": null,
      "metadata": {
        "colab": {
          "base_uri": "https://localhost:8080/"
        },
        "id": "IPLDH9hwko9O",
        "outputId": "42fa57ea-3921-440e-da85-43cd34910cdc"
      },
      "outputs": [
        {
          "output_type": "stream",
          "name": "stdout",
          "text": [
            "Store                    int64\n",
            "DayOfWeek                int64\n",
            "Customers                int64\n",
            "Open                     int64\n",
            "Promo                    int64\n",
            "StateHoliday             int64\n",
            "StoreType                int64\n",
            "Assortment               int64\n",
            "CompetitionDistance    float64\n",
            "Year                     int64\n",
            "Month                    int64\n",
            "dtype: object\n"
          ]
        }
      ],
      "source": [
        "#X2['CompetitionDistance']=X2.CompetitionDistance.values.astype(np.int64)\n",
        "#X2['Promo2SinceWeek']=X2.Promo2SinceWeek.values.astype(np.int64)\n",
        "#factor_to_integer(X2, 'StateHoliday')\n",
        "#factor_to_integer(X2, 'StoreType')\n",
        "print(X2.dtypes)"
      ]
    },
    {
      "cell_type": "code",
      "execution_count": null,
      "metadata": {
        "colab": {
          "base_uri": "https://localhost:8080/"
        },
        "id": "LvSuH6y91ECC",
        "outputId": "8e5ee4b9-ea03-4028-d594-568292ba56f8"
      },
      "outputs": [
        {
          "output_type": "stream",
          "name": "stdout",
          "text": [
            "Mean Absolute Error: 284.24 degrees.\n"
          ]
        }
      ],
      "source": [
        "#@title predire Sales\n",
        "X2_train, X2_val, y2_train, y2_val = train_test_split(X2, y2, random_state=42)\n",
        "\n",
        "#On créé un Random Forest de 100 arbres \n",
        "rf2 = RandomForestRegressor(n_estimators = 100 ,random_state = 42)\n",
        "rf2.fit(X2_train, y2_train)\n",
        "\n",
        "#d'entraîner sur l'échantillon de validation\n",
        "predictions2 = rf2.predict(X2_val)\n",
        "\n",
        "#calculer l'erreur entre la valeur predite et Sales\n",
        "erreurs2 = abs(predictions2 - y2_val)\n",
        "print('Mean Absolute Error:', round(np.mean(erreurs2), 2), 'degrees.')"
      ]
    },
    {
      "cell_type": "code",
      "execution_count": null,
      "metadata": {
        "colab": {
          "base_uri": "https://localhost:8080/"
        },
        "id": "FJjvA1FVD5sh",
        "outputId": "c056cf96-970d-454e-cb83-f3f8b0a81a2d"
      },
      "outputs": [
        {
          "output_type": "stream",
          "name": "stdout",
          "text": [
            "474.69249744637625\n"
          ]
        }
      ],
      "source": [
        "from sklearn import metrics\n",
        "from sklearn.metrics import mean_squared_error\n",
        "import math\n",
        "predictions = rf2.predict(X2_val)\n",
        "print(math.sqrt(mean_squared_error(y2_val,predictions)))"
      ]
    },
    {
      "cell_type": "code",
      "execution_count": null,
      "metadata": {
        "colab": {
          "base_uri": "https://localhost:8080/"
        },
        "id": "N36Uxl7-7xwC",
        "outputId": "1795a216-629e-4e0a-d3ac-71a57db407f6"
      },
      "outputs": [
        {
          "output_type": "stream",
          "name": "stdout",
          "text": [
            "Index(['Id', 'Store', 'DayOfWeek', 'Date', 'Open', 'Promo', 'StateHoliday',\n",
            "       'SchoolHoliday', 'StoreType', 'Assortment', 'CompetitionDistance',\n",
            "       'CompetitionOpenSinceMonth', 'CompetitionOpenSinceYear', 'Promo2',\n",
            "       'Promo2SinceWeek', 'Promo2SinceYear', 'PromoInterval', 'Year', 'Month'],\n",
            "      dtype='object')\n"
          ]
        }
      ],
      "source": [
        "test['Year'] = pd.DatetimeIndex(test['Date']).year\n",
        "test['Month'] = pd.DatetimeIndex(test['Date']).month\n",
        "print(test.columns)"
      ]
    },
    {
      "cell_type": "code",
      "execution_count": null,
      "metadata": {
        "id": "Aui5cmDt4Xoo"
      },
      "outputs": [],
      "source": [
        "#@title Test dataset\n",
        "\n",
        "#test['Open']=test.Open.values.astype(np.int64)\n",
        "#test['CompetitionDistance']=test.CompetitionDistance.values.astype(np.int64)\n",
        "\n",
        "test['Open'].fillna(value=test['Open'].median(), inplace=True)\n",
        "test['Promo'].fillna(value=test['Promo'].median(), inplace=True)\n",
        "test['CompetitionDistance'].fillna(value=-1, inplace=True)\n",
        "test['DayOfWeek'].fillna(value=test['DayOfWeek'].median(), inplace=True)\n",
        "\n",
        "factor_to_integer(test, 'StateHoliday')\n",
        "factor_to_integer(test, 'Assortment')\n",
        "factor_to_integer(test, 'StoreType')\n",
        "\n",
        "XX = test.drop(['Id','Date','Promo2SinceWeek','SchoolHoliday','Promo2','CompetitionOpenSinceMonth','CompetitionOpenSinceYear','Promo2SinceYear','PromoInterval'], axis=1)\n"
      ]
    },
    {
      "cell_type": "code",
      "execution_count": null,
      "metadata": {
        "colab": {
          "base_uri": "https://localhost:8080/"
        },
        "id": "LHiiCgRi8VuM",
        "outputId": "229b6c35-58ae-4c6a-b580-196b1547549e"
      },
      "outputs": [
        {
          "output_type": "stream",
          "name": "stdout",
          "text": [
            "Store                    int64\n",
            "DayOfWeek                int64\n",
            "Open                   float64\n",
            "Promo                    int64\n",
            "StateHoliday             int64\n",
            "StoreType                int64\n",
            "Assortment               int64\n",
            "CompetitionDistance    float64\n",
            "Year                     int64\n",
            "Month                    int64\n",
            "dtype: object\n"
          ]
        }
      ],
      "source": [
        "XX.columns\n",
        "\n",
        "\n",
        "print(XX.dtypes)"
      ]
    },
    {
      "cell_type": "code",
      "execution_count": null,
      "metadata": {
        "id": "TavCHoiu8ca-"
      },
      "outputs": [],
      "source": [
        "XX['Customers']=rf.predict(XX).round()\n"
      ]
    },
    {
      "cell_type": "code",
      "execution_count": null,
      "metadata": {
        "id": "zaJdKIqVAbTN"
      },
      "outputs": [],
      "source": []
    },
    {
      "cell_type": "code",
      "execution_count": null,
      "metadata": {
        "colab": {
          "base_uri": "https://localhost:8080/",
          "height": 250
        },
        "id": "GhagjIQY8p0X",
        "outputId": "230daf19-64e3-4673-ff54-58f778714f01"
      },
      "outputs": [
        {
          "output_type": "execute_result",
          "data": {
            "text/html": [
              "\n",
              "  <div id=\"df-a314f98d-f19f-445c-aa9a-a4a20d319a31\">\n",
              "    <div class=\"colab-df-container\">\n",
              "      <div>\n",
              "<style scoped>\n",
              "    .dataframe tbody tr th:only-of-type {\n",
              "        vertical-align: middle;\n",
              "    }\n",
              "\n",
              "    .dataframe tbody tr th {\n",
              "        vertical-align: top;\n",
              "    }\n",
              "\n",
              "    .dataframe thead th {\n",
              "        text-align: right;\n",
              "    }\n",
              "</style>\n",
              "<table border=\"1\" class=\"dataframe\">\n",
              "  <thead>\n",
              "    <tr style=\"text-align: right;\">\n",
              "      <th></th>\n",
              "      <th>Store</th>\n",
              "      <th>DayOfWeek</th>\n",
              "      <th>Open</th>\n",
              "      <th>Promo</th>\n",
              "      <th>StateHoliday</th>\n",
              "      <th>StoreType</th>\n",
              "      <th>Assortment</th>\n",
              "      <th>CompetitionDistance</th>\n",
              "      <th>Year</th>\n",
              "      <th>Month</th>\n",
              "      <th>Customers</th>\n",
              "    </tr>\n",
              "  </thead>\n",
              "  <tbody>\n",
              "    <tr>\n",
              "      <th>0</th>\n",
              "      <td>1</td>\n",
              "      <td>4</td>\n",
              "      <td>1.0</td>\n",
              "      <td>1</td>\n",
              "      <td>0</td>\n",
              "      <td>0</td>\n",
              "      <td>0</td>\n",
              "      <td>1270.0</td>\n",
              "      <td>2015</td>\n",
              "      <td>9</td>\n",
              "      <td>510.0</td>\n",
              "    </tr>\n",
              "    <tr>\n",
              "      <th>1</th>\n",
              "      <td>3</td>\n",
              "      <td>4</td>\n",
              "      <td>1.0</td>\n",
              "      <td>1</td>\n",
              "      <td>0</td>\n",
              "      <td>1</td>\n",
              "      <td>0</td>\n",
              "      <td>14130.0</td>\n",
              "      <td>2015</td>\n",
              "      <td>9</td>\n",
              "      <td>789.0</td>\n",
              "    </tr>\n",
              "    <tr>\n",
              "      <th>2</th>\n",
              "      <td>7</td>\n",
              "      <td>4</td>\n",
              "      <td>1.0</td>\n",
              "      <td>1</td>\n",
              "      <td>0</td>\n",
              "      <td>1</td>\n",
              "      <td>1</td>\n",
              "      <td>24000.0</td>\n",
              "      <td>2015</td>\n",
              "      <td>9</td>\n",
              "      <td>1000.0</td>\n",
              "    </tr>\n",
              "    <tr>\n",
              "      <th>3</th>\n",
              "      <td>8</td>\n",
              "      <td>4</td>\n",
              "      <td>1.0</td>\n",
              "      <td>1</td>\n",
              "      <td>0</td>\n",
              "      <td>1</td>\n",
              "      <td>0</td>\n",
              "      <td>7520.0</td>\n",
              "      <td>2015</td>\n",
              "      <td>9</td>\n",
              "      <td>924.0</td>\n",
              "    </tr>\n",
              "    <tr>\n",
              "      <th>4</th>\n",
              "      <td>9</td>\n",
              "      <td>4</td>\n",
              "      <td>1.0</td>\n",
              "      <td>1</td>\n",
              "      <td>0</td>\n",
              "      <td>1</td>\n",
              "      <td>1</td>\n",
              "      <td>2030.0</td>\n",
              "      <td>2015</td>\n",
              "      <td>9</td>\n",
              "      <td>647.0</td>\n",
              "    </tr>\n",
              "  </tbody>\n",
              "</table>\n",
              "</div>\n",
              "      <button class=\"colab-df-convert\" onclick=\"convertToInteractive('df-a314f98d-f19f-445c-aa9a-a4a20d319a31')\"\n",
              "              title=\"Convert this dataframe to an interactive table.\"\n",
              "              style=\"display:none;\">\n",
              "        \n",
              "  <svg xmlns=\"http://www.w3.org/2000/svg\" height=\"24px\"viewBox=\"0 0 24 24\"\n",
              "       width=\"24px\">\n",
              "    <path d=\"M0 0h24v24H0V0z\" fill=\"none\"/>\n",
              "    <path d=\"M18.56 5.44l.94 2.06.94-2.06 2.06-.94-2.06-.94-.94-2.06-.94 2.06-2.06.94zm-11 1L8.5 8.5l.94-2.06 2.06-.94-2.06-.94L8.5 2.5l-.94 2.06-2.06.94zm10 10l.94 2.06.94-2.06 2.06-.94-2.06-.94-.94-2.06-.94 2.06-2.06.94z\"/><path d=\"M17.41 7.96l-1.37-1.37c-.4-.4-.92-.59-1.43-.59-.52 0-1.04.2-1.43.59L10.3 9.45l-7.72 7.72c-.78.78-.78 2.05 0 2.83L4 21.41c.39.39.9.59 1.41.59.51 0 1.02-.2 1.41-.59l7.78-7.78 2.81-2.81c.8-.78.8-2.07 0-2.86zM5.41 20L4 18.59l7.72-7.72 1.47 1.35L5.41 20z\"/>\n",
              "  </svg>\n",
              "      </button>\n",
              "      \n",
              "  <style>\n",
              "    .colab-df-container {\n",
              "      display:flex;\n",
              "      flex-wrap:wrap;\n",
              "      gap: 12px;\n",
              "    }\n",
              "\n",
              "    .colab-df-convert {\n",
              "      background-color: #E8F0FE;\n",
              "      border: none;\n",
              "      border-radius: 50%;\n",
              "      cursor: pointer;\n",
              "      display: none;\n",
              "      fill: #1967D2;\n",
              "      height: 32px;\n",
              "      padding: 0 0 0 0;\n",
              "      width: 32px;\n",
              "    }\n",
              "\n",
              "    .colab-df-convert:hover {\n",
              "      background-color: #E2EBFA;\n",
              "      box-shadow: 0px 1px 2px rgba(60, 64, 67, 0.3), 0px 1px 3px 1px rgba(60, 64, 67, 0.15);\n",
              "      fill: #174EA6;\n",
              "    }\n",
              "\n",
              "    [theme=dark] .colab-df-convert {\n",
              "      background-color: #3B4455;\n",
              "      fill: #D2E3FC;\n",
              "    }\n",
              "\n",
              "    [theme=dark] .colab-df-convert:hover {\n",
              "      background-color: #434B5C;\n",
              "      box-shadow: 0px 1px 3px 1px rgba(0, 0, 0, 0.15);\n",
              "      filter: drop-shadow(0px 1px 2px rgba(0, 0, 0, 0.3));\n",
              "      fill: #FFFFFF;\n",
              "    }\n",
              "  </style>\n",
              "\n",
              "      <script>\n",
              "        const buttonEl =\n",
              "          document.querySelector('#df-a314f98d-f19f-445c-aa9a-a4a20d319a31 button.colab-df-convert');\n",
              "        buttonEl.style.display =\n",
              "          google.colab.kernel.accessAllowed ? 'block' : 'none';\n",
              "\n",
              "        async function convertToInteractive(key) {\n",
              "          const element = document.querySelector('#df-a314f98d-f19f-445c-aa9a-a4a20d319a31');\n",
              "          const dataTable =\n",
              "            await google.colab.kernel.invokeFunction('convertToInteractive',\n",
              "                                                     [key], {});\n",
              "          if (!dataTable) return;\n",
              "\n",
              "          const docLinkHtml = 'Like what you see? Visit the ' +\n",
              "            '<a target=\"_blank\" href=https://colab.research.google.com/notebooks/data_table.ipynb>data table notebook</a>'\n",
              "            + ' to learn more about interactive tables.';\n",
              "          element.innerHTML = '';\n",
              "          dataTable['output_type'] = 'display_data';\n",
              "          await google.colab.output.renderOutput(dataTable, element);\n",
              "          const docLink = document.createElement('div');\n",
              "          docLink.innerHTML = docLinkHtml;\n",
              "          element.appendChild(docLink);\n",
              "        }\n",
              "      </script>\n",
              "    </div>\n",
              "  </div>\n",
              "  "
            ],
            "text/plain": [
              "   Store  DayOfWeek  Open  Promo  StateHoliday  StoreType  Assortment  \\\n",
              "0      1          4   1.0      1             0          0           0   \n",
              "1      3          4   1.0      1             0          1           0   \n",
              "2      7          4   1.0      1             0          1           1   \n",
              "3      8          4   1.0      1             0          1           0   \n",
              "4      9          4   1.0      1             0          1           1   \n",
              "\n",
              "   CompetitionDistance  Year  Month  Customers  \n",
              "0               1270.0  2015      9      510.0  \n",
              "1              14130.0  2015      9      789.0  \n",
              "2              24000.0  2015      9     1000.0  \n",
              "3               7520.0  2015      9      924.0  \n",
              "4               2030.0  2015      9      647.0  "
            ]
          },
          "metadata": {},
          "execution_count": 21
        }
      ],
      "source": [
        "XX.head()"
      ]
    },
    {
      "cell_type": "code",
      "execution_count": null,
      "metadata": {
        "colab": {
          "base_uri": "https://localhost:8080/"
        },
        "id": "-i2MCLrp8-cG",
        "outputId": "8c5500aa-ada6-49ff-ae4c-e0ecc9f39b68"
      },
      "outputs": [
        {
          "output_type": "execute_result",
          "data": {
            "text/plain": [
              "Index(['Store', 'DayOfWeek', 'Customers', 'Open', 'Promo', 'StateHoliday',\n",
              "       'StoreType', 'Assortment', 'CompetitionDistance', 'Year', 'Month'],\n",
              "      dtype='object')"
            ]
          },
          "metadata": {},
          "execution_count": 22
        }
      ],
      "source": [
        "X2_train.columns"
      ]
    },
    {
      "cell_type": "code",
      "execution_count": null,
      "metadata": {
        "colab": {
          "base_uri": "https://localhost:8080/"
        },
        "id": "GHni3h0F8rzG",
        "outputId": "eb9761fa-8f4c-4959-9a45-cf626c792f0a"
      },
      "outputs": [
        {
          "output_type": "stream",
          "name": "stdout",
          "text": [
            "Index(['Store', 'DayOfWeek', 'Customers', 'Open', 'Promo', 'StateHoliday',\n",
            "       'StoreType', 'Assortment', 'CompetitionDistance', 'Year', 'Month'],\n",
            "      dtype='object')\n"
          ]
        }
      ],
      "source": [
        "XX=XX[X2_train.columns]\n",
        "print (XX.columns)"
      ]
    },
    {
      "cell_type": "code",
      "execution_count": null,
      "metadata": {
        "id": "GgDYfu_k9CfX"
      },
      "outputs": [],
      "source": [
        "XX['Sales']=rf2.predict(XX)"
      ]
    },
    {
      "cell_type": "code",
      "execution_count": null,
      "metadata": {
        "colab": {
          "base_uri": "https://localhost:8080/",
          "height": 270
        },
        "id": "UCzDJrEe8WPL",
        "outputId": "ead4bf0f-34a8-449e-b950-8005fe4d8002"
      },
      "outputs": [
        {
          "output_type": "execute_result",
          "data": {
            "text/html": [
              "\n",
              "  <div id=\"df-624ccbe7-4bed-468e-bdf0-f959d04e4c60\">\n",
              "    <div class=\"colab-df-container\">\n",
              "      <div>\n",
              "<style scoped>\n",
              "    .dataframe tbody tr th:only-of-type {\n",
              "        vertical-align: middle;\n",
              "    }\n",
              "\n",
              "    .dataframe tbody tr th {\n",
              "        vertical-align: top;\n",
              "    }\n",
              "\n",
              "    .dataframe thead th {\n",
              "        text-align: right;\n",
              "    }\n",
              "</style>\n",
              "<table border=\"1\" class=\"dataframe\">\n",
              "  <thead>\n",
              "    <tr style=\"text-align: right;\">\n",
              "      <th></th>\n",
              "      <th>Store</th>\n",
              "      <th>DayOfWeek</th>\n",
              "      <th>Customers</th>\n",
              "      <th>Open</th>\n",
              "      <th>Promo</th>\n",
              "      <th>StateHoliday</th>\n",
              "      <th>StoreType</th>\n",
              "      <th>Assortment</th>\n",
              "      <th>CompetitionDistance</th>\n",
              "      <th>Year</th>\n",
              "      <th>Month</th>\n",
              "      <th>Sales</th>\n",
              "    </tr>\n",
              "  </thead>\n",
              "  <tbody>\n",
              "    <tr>\n",
              "      <th>0</th>\n",
              "      <td>1</td>\n",
              "      <td>4</td>\n",
              "      <td>510.0</td>\n",
              "      <td>1.0</td>\n",
              "      <td>1</td>\n",
              "      <td>0</td>\n",
              "      <td>0</td>\n",
              "      <td>0</td>\n",
              "      <td>1270.0</td>\n",
              "      <td>2015</td>\n",
              "      <td>9</td>\n",
              "      <td>4510.74</td>\n",
              "    </tr>\n",
              "    <tr>\n",
              "      <th>1</th>\n",
              "      <td>3</td>\n",
              "      <td>4</td>\n",
              "      <td>789.0</td>\n",
              "      <td>1.0</td>\n",
              "      <td>1</td>\n",
              "      <td>0</td>\n",
              "      <td>1</td>\n",
              "      <td>0</td>\n",
              "      <td>14130.0</td>\n",
              "      <td>2015</td>\n",
              "      <td>9</td>\n",
              "      <td>7808.11</td>\n",
              "    </tr>\n",
              "    <tr>\n",
              "      <th>2</th>\n",
              "      <td>7</td>\n",
              "      <td>4</td>\n",
              "      <td>1000.0</td>\n",
              "      <td>1.0</td>\n",
              "      <td>1</td>\n",
              "      <td>0</td>\n",
              "      <td>1</td>\n",
              "      <td>1</td>\n",
              "      <td>24000.0</td>\n",
              "      <td>2015</td>\n",
              "      <td>9</td>\n",
              "      <td>9829.67</td>\n",
              "    </tr>\n",
              "    <tr>\n",
              "      <th>3</th>\n",
              "      <td>8</td>\n",
              "      <td>4</td>\n",
              "      <td>924.0</td>\n",
              "      <td>1.0</td>\n",
              "      <td>1</td>\n",
              "      <td>0</td>\n",
              "      <td>1</td>\n",
              "      <td>0</td>\n",
              "      <td>7520.0</td>\n",
              "      <td>2015</td>\n",
              "      <td>9</td>\n",
              "      <td>8397.12</td>\n",
              "    </tr>\n",
              "    <tr>\n",
              "      <th>4</th>\n",
              "      <td>9</td>\n",
              "      <td>4</td>\n",
              "      <td>647.0</td>\n",
              "      <td>1.0</td>\n",
              "      <td>1</td>\n",
              "      <td>0</td>\n",
              "      <td>1</td>\n",
              "      <td>1</td>\n",
              "      <td>2030.0</td>\n",
              "      <td>2015</td>\n",
              "      <td>9</td>\n",
              "      <td>7575.26</td>\n",
              "    </tr>\n",
              "  </tbody>\n",
              "</table>\n",
              "</div>\n",
              "      <button class=\"colab-df-convert\" onclick=\"convertToInteractive('df-624ccbe7-4bed-468e-bdf0-f959d04e4c60')\"\n",
              "              title=\"Convert this dataframe to an interactive table.\"\n",
              "              style=\"display:none;\">\n",
              "        \n",
              "  <svg xmlns=\"http://www.w3.org/2000/svg\" height=\"24px\"viewBox=\"0 0 24 24\"\n",
              "       width=\"24px\">\n",
              "    <path d=\"M0 0h24v24H0V0z\" fill=\"none\"/>\n",
              "    <path d=\"M18.56 5.44l.94 2.06.94-2.06 2.06-.94-2.06-.94-.94-2.06-.94 2.06-2.06.94zm-11 1L8.5 8.5l.94-2.06 2.06-.94-2.06-.94L8.5 2.5l-.94 2.06-2.06.94zm10 10l.94 2.06.94-2.06 2.06-.94-2.06-.94-.94-2.06-.94 2.06-2.06.94z\"/><path d=\"M17.41 7.96l-1.37-1.37c-.4-.4-.92-.59-1.43-.59-.52 0-1.04.2-1.43.59L10.3 9.45l-7.72 7.72c-.78.78-.78 2.05 0 2.83L4 21.41c.39.39.9.59 1.41.59.51 0 1.02-.2 1.41-.59l7.78-7.78 2.81-2.81c.8-.78.8-2.07 0-2.86zM5.41 20L4 18.59l7.72-7.72 1.47 1.35L5.41 20z\"/>\n",
              "  </svg>\n",
              "      </button>\n",
              "      \n",
              "  <style>\n",
              "    .colab-df-container {\n",
              "      display:flex;\n",
              "      flex-wrap:wrap;\n",
              "      gap: 12px;\n",
              "    }\n",
              "\n",
              "    .colab-df-convert {\n",
              "      background-color: #E8F0FE;\n",
              "      border: none;\n",
              "      border-radius: 50%;\n",
              "      cursor: pointer;\n",
              "      display: none;\n",
              "      fill: #1967D2;\n",
              "      height: 32px;\n",
              "      padding: 0 0 0 0;\n",
              "      width: 32px;\n",
              "    }\n",
              "\n",
              "    .colab-df-convert:hover {\n",
              "      background-color: #E2EBFA;\n",
              "      box-shadow: 0px 1px 2px rgba(60, 64, 67, 0.3), 0px 1px 3px 1px rgba(60, 64, 67, 0.15);\n",
              "      fill: #174EA6;\n",
              "    }\n",
              "\n",
              "    [theme=dark] .colab-df-convert {\n",
              "      background-color: #3B4455;\n",
              "      fill: #D2E3FC;\n",
              "    }\n",
              "\n",
              "    [theme=dark] .colab-df-convert:hover {\n",
              "      background-color: #434B5C;\n",
              "      box-shadow: 0px 1px 3px 1px rgba(0, 0, 0, 0.15);\n",
              "      filter: drop-shadow(0px 1px 2px rgba(0, 0, 0, 0.3));\n",
              "      fill: #FFFFFF;\n",
              "    }\n",
              "  </style>\n",
              "\n",
              "      <script>\n",
              "        const buttonEl =\n",
              "          document.querySelector('#df-624ccbe7-4bed-468e-bdf0-f959d04e4c60 button.colab-df-convert');\n",
              "        buttonEl.style.display =\n",
              "          google.colab.kernel.accessAllowed ? 'block' : 'none';\n",
              "\n",
              "        async function convertToInteractive(key) {\n",
              "          const element = document.querySelector('#df-624ccbe7-4bed-468e-bdf0-f959d04e4c60');\n",
              "          const dataTable =\n",
              "            await google.colab.kernel.invokeFunction('convertToInteractive',\n",
              "                                                     [key], {});\n",
              "          if (!dataTable) return;\n",
              "\n",
              "          const docLinkHtml = 'Like what you see? Visit the ' +\n",
              "            '<a target=\"_blank\" href=https://colab.research.google.com/notebooks/data_table.ipynb>data table notebook</a>'\n",
              "            + ' to learn more about interactive tables.';\n",
              "          element.innerHTML = '';\n",
              "          dataTable['output_type'] = 'display_data';\n",
              "          await google.colab.output.renderOutput(dataTable, element);\n",
              "          const docLink = document.createElement('div');\n",
              "          docLink.innerHTML = docLinkHtml;\n",
              "          element.appendChild(docLink);\n",
              "        }\n",
              "      </script>\n",
              "    </div>\n",
              "  </div>\n",
              "  "
            ],
            "text/plain": [
              "   Store  DayOfWeek  Customers  Open  Promo  StateHoliday  StoreType  \\\n",
              "0      1          4      510.0   1.0      1             0          0   \n",
              "1      3          4      789.0   1.0      1             0          1   \n",
              "2      7          4     1000.0   1.0      1             0          1   \n",
              "3      8          4      924.0   1.0      1             0          1   \n",
              "4      9          4      647.0   1.0      1             0          1   \n",
              "\n",
              "   Assortment  CompetitionDistance  Year  Month    Sales  \n",
              "0           0               1270.0  2015      9  4510.74  \n",
              "1           0              14130.0  2015      9  7808.11  \n",
              "2           1              24000.0  2015      9  9829.67  \n",
              "3           0               7520.0  2015      9  8397.12  \n",
              "4           1               2030.0  2015      9  7575.26  "
            ]
          },
          "metadata": {},
          "execution_count": 25
        }
      ],
      "source": [
        "XX.head()"
      ]
    },
    {
      "cell_type": "code",
      "execution_count": null,
      "metadata": {
        "id": "SmzkFE52BBtB"
      },
      "outputs": [],
      "source": []
    },
    {
      "cell_type": "code",
      "execution_count": null,
      "metadata": {
        "id": "1_cGXCH5BCSd"
      },
      "outputs": [],
      "source": [
        "result=XX['Sales']\n",
        "result=result.reset_index()\n",
        "result['index']=result['index']+1"
      ]
    },
    {
      "cell_type": "code",
      "execution_count": null,
      "metadata": {
        "colab": {
          "base_uri": "https://localhost:8080/",
          "height": 206
        },
        "id": "kK6Dz8o9BiDU",
        "outputId": "9cade18f-27b1-4290-807e-76dea560bb8d"
      },
      "outputs": [
        {
          "output_type": "execute_result",
          "data": {
            "text/html": [
              "\n",
              "  <div id=\"df-fdb563b3-a99e-4c66-9fc6-67c06866d739\">\n",
              "    <div class=\"colab-df-container\">\n",
              "      <div>\n",
              "<style scoped>\n",
              "    .dataframe tbody tr th:only-of-type {\n",
              "        vertical-align: middle;\n",
              "    }\n",
              "\n",
              "    .dataframe tbody tr th {\n",
              "        vertical-align: top;\n",
              "    }\n",
              "\n",
              "    .dataframe thead th {\n",
              "        text-align: right;\n",
              "    }\n",
              "</style>\n",
              "<table border=\"1\" class=\"dataframe\">\n",
              "  <thead>\n",
              "    <tr style=\"text-align: right;\">\n",
              "      <th></th>\n",
              "      <th>index</th>\n",
              "      <th>Sales</th>\n",
              "    </tr>\n",
              "  </thead>\n",
              "  <tbody>\n",
              "    <tr>\n",
              "      <th>0</th>\n",
              "      <td>1</td>\n",
              "      <td>4510.74</td>\n",
              "    </tr>\n",
              "    <tr>\n",
              "      <th>1</th>\n",
              "      <td>2</td>\n",
              "      <td>7808.11</td>\n",
              "    </tr>\n",
              "    <tr>\n",
              "      <th>2</th>\n",
              "      <td>3</td>\n",
              "      <td>9829.67</td>\n",
              "    </tr>\n",
              "    <tr>\n",
              "      <th>3</th>\n",
              "      <td>4</td>\n",
              "      <td>8397.12</td>\n",
              "    </tr>\n",
              "    <tr>\n",
              "      <th>4</th>\n",
              "      <td>5</td>\n",
              "      <td>7575.26</td>\n",
              "    </tr>\n",
              "  </tbody>\n",
              "</table>\n",
              "</div>\n",
              "      <button class=\"colab-df-convert\" onclick=\"convertToInteractive('df-fdb563b3-a99e-4c66-9fc6-67c06866d739')\"\n",
              "              title=\"Convert this dataframe to an interactive table.\"\n",
              "              style=\"display:none;\">\n",
              "        \n",
              "  <svg xmlns=\"http://www.w3.org/2000/svg\" height=\"24px\"viewBox=\"0 0 24 24\"\n",
              "       width=\"24px\">\n",
              "    <path d=\"M0 0h24v24H0V0z\" fill=\"none\"/>\n",
              "    <path d=\"M18.56 5.44l.94 2.06.94-2.06 2.06-.94-2.06-.94-.94-2.06-.94 2.06-2.06.94zm-11 1L8.5 8.5l.94-2.06 2.06-.94-2.06-.94L8.5 2.5l-.94 2.06-2.06.94zm10 10l.94 2.06.94-2.06 2.06-.94-2.06-.94-.94-2.06-.94 2.06-2.06.94z\"/><path d=\"M17.41 7.96l-1.37-1.37c-.4-.4-.92-.59-1.43-.59-.52 0-1.04.2-1.43.59L10.3 9.45l-7.72 7.72c-.78.78-.78 2.05 0 2.83L4 21.41c.39.39.9.59 1.41.59.51 0 1.02-.2 1.41-.59l7.78-7.78 2.81-2.81c.8-.78.8-2.07 0-2.86zM5.41 20L4 18.59l7.72-7.72 1.47 1.35L5.41 20z\"/>\n",
              "  </svg>\n",
              "      </button>\n",
              "      \n",
              "  <style>\n",
              "    .colab-df-container {\n",
              "      display:flex;\n",
              "      flex-wrap:wrap;\n",
              "      gap: 12px;\n",
              "    }\n",
              "\n",
              "    .colab-df-convert {\n",
              "      background-color: #E8F0FE;\n",
              "      border: none;\n",
              "      border-radius: 50%;\n",
              "      cursor: pointer;\n",
              "      display: none;\n",
              "      fill: #1967D2;\n",
              "      height: 32px;\n",
              "      padding: 0 0 0 0;\n",
              "      width: 32px;\n",
              "    }\n",
              "\n",
              "    .colab-df-convert:hover {\n",
              "      background-color: #E2EBFA;\n",
              "      box-shadow: 0px 1px 2px rgba(60, 64, 67, 0.3), 0px 1px 3px 1px rgba(60, 64, 67, 0.15);\n",
              "      fill: #174EA6;\n",
              "    }\n",
              "\n",
              "    [theme=dark] .colab-df-convert {\n",
              "      background-color: #3B4455;\n",
              "      fill: #D2E3FC;\n",
              "    }\n",
              "\n",
              "    [theme=dark] .colab-df-convert:hover {\n",
              "      background-color: #434B5C;\n",
              "      box-shadow: 0px 1px 3px 1px rgba(0, 0, 0, 0.15);\n",
              "      filter: drop-shadow(0px 1px 2px rgba(0, 0, 0, 0.3));\n",
              "      fill: #FFFFFF;\n",
              "    }\n",
              "  </style>\n",
              "\n",
              "      <script>\n",
              "        const buttonEl =\n",
              "          document.querySelector('#df-fdb563b3-a99e-4c66-9fc6-67c06866d739 button.colab-df-convert');\n",
              "        buttonEl.style.display =\n",
              "          google.colab.kernel.accessAllowed ? 'block' : 'none';\n",
              "\n",
              "        async function convertToInteractive(key) {\n",
              "          const element = document.querySelector('#df-fdb563b3-a99e-4c66-9fc6-67c06866d739');\n",
              "          const dataTable =\n",
              "            await google.colab.kernel.invokeFunction('convertToInteractive',\n",
              "                                                     [key], {});\n",
              "          if (!dataTable) return;\n",
              "\n",
              "          const docLinkHtml = 'Like what you see? Visit the ' +\n",
              "            '<a target=\"_blank\" href=https://colab.research.google.com/notebooks/data_table.ipynb>data table notebook</a>'\n",
              "            + ' to learn more about interactive tables.';\n",
              "          element.innerHTML = '';\n",
              "          dataTable['output_type'] = 'display_data';\n",
              "          await google.colab.output.renderOutput(dataTable, element);\n",
              "          const docLink = document.createElement('div');\n",
              "          docLink.innerHTML = docLinkHtml;\n",
              "          element.appendChild(docLink);\n",
              "        }\n",
              "      </script>\n",
              "    </div>\n",
              "  </div>\n",
              "  "
            ],
            "text/plain": [
              "   index    Sales\n",
              "0      1  4510.74\n",
              "1      2  7808.11\n",
              "2      3  9829.67\n",
              "3      4  8397.12\n",
              "4      5  7575.26"
            ]
          },
          "metadata": {},
          "execution_count": 27
        }
      ],
      "source": [
        "result.head()"
      ]
    },
    {
      "cell_type": "code",
      "execution_count": null,
      "metadata": {
        "id": "y4aMHhHhBuIb"
      },
      "outputs": [],
      "source": [
        "result.to_csv('/content/drive/MyDrive/AppMachine/result.csv',index=False)"
      ]
    }
  ],
  "metadata": {
    "colab": {
      "provenance": []
    },
    "kernelspec": {
      "display_name": "Python 3",
      "name": "python3"
    },
    "language_info": {
      "name": "python"
    }
  },
  "nbformat": 4,
  "nbformat_minor": 0
}